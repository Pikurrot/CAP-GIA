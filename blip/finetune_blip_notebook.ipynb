{
 "cells": [
  {
   "cell_type": "code",
   "execution_count": 1,
   "metadata": {
    "vscode": {
     "languageId": "plaintext"
    }
   },
   "outputs": [],
   "source": [
    "import os\n",
    "import torch\n",
    "import torch.optim as optim\n",
    "import numpy as np\n",
    "import pandas as pd\n",
    "from PIL import Image\n",
    "from torch.utils.data import DataLoader, Dataset\n",
    "from torchvision import transforms\n",
    "from transformers import AutoModelForVision2Seq, AutoProcessor\n",
    "from peft import LoraConfig, get_peft_model\n",
    "import wandb\n",
    "import evaluate  \n",
    "from typing import Literal"
   ]
  },
  {
   "cell_type": "code",
   "execution_count": 2,
   "metadata": {},
   "outputs": [
    {
     "data": {
      "text/plain": [
       "'\\ntransform = transforms.Compose([\\n\\ttransforms.Resize((224, 224)),\\n\\ttransforms.ToTensor(),\\n\\ttransforms.Normalize(mean=[0.485, 0.456, 0.406],\\n\\t\\t\\t\\t\\t\\t std=[0.229, 0.224, 0.225])\\n])\\n'"
      ]
     },
     "execution_count": 2,
     "metadata": {},
     "output_type": "execute_result"
    }
   ],
   "source": [
    "# Clase ReceipesDataset\n",
    "class ReceipesDataset(Dataset):\n",
    "    def __init__(\n",
    "        self,\n",
    "        data_path: str,\n",
    "        transform_image: bool = False,\n",
    "        split: Literal[\"train\", \"val\", \"test\"] = \"train\",\n",
    "        split_size: list = [0.7, 0.1, 0.2],\n",
    "        data_size: float = 1.0,\n",
    "        processor = AutoProcessor.from_pretrained(\"model_resources\")\n",
    "    \n",
    "\n",
    "    ):\n",
    "        super(ReceipesDataset, self).__init__()\n",
    "        self.img_path = os.path.join(data_path, \"FoodImages\", \"Food Images\")\n",
    "        self.cap_path = os.path.join(\n",
    "            data_path, \"FoodIngredientsAndReceipesDatasetWithImageNameMapping.csv\"\n",
    "        )\n",
    "        self.cap_data = pd.read_csv(self.cap_path)\n",
    "        self.transform_image = transform_image\n",
    "        self.split = split\n",
    "        self.processor = processor \n",
    "        \n",
    "        # Limpieza de datos\n",
    "        self.cap_data = self.cap_data.dropna(subset=[\"Title\"])\n",
    "        self.cap_data = self.cap_data[\n",
    "            self.cap_data[\"Title\"].apply(lambda x: len(x.split()) > 0)\n",
    "        ]\n",
    "        self.cap_data = self.cap_data[\n",
    "            self.cap_data[\"Image_Name\"].apply(lambda x: x != \"#NAME?\")\n",
    "        ]\n",
    "\n",
    "        # División de datos\n",
    "        total_size = len(self.cap_data)\n",
    "        train_end = int(split_size[0] * total_size)\n",
    "        val_end = train_end + int(split_size[1] * total_size)\n",
    "\n",
    "        if split == \"train\":\n",
    "            self.cap_data = self.cap_data[:train_end]\n",
    "        elif split == \"val\":\n",
    "            self.cap_data = self.cap_data[train_end:val_end]\n",
    "        elif split == \"test\":\n",
    "            self.cap_data = self.cap_data[val_end:]\n",
    "\n",
    "        self.cap_data = self.cap_data.sample(frac=data_size, random_state=42)\n",
    "\n",
    "    def __len__(self):\n",
    "        return len(self.cap_data)\n",
    "\n",
    "    def __getitem__(self, idx):\n",
    "        img_name = os.path.join(self.img_path, self.cap_data.iloc[idx][\"Image_Name\"])\n",
    "        img_name += \".jpg\"\n",
    "        image = Image.open(img_name).convert(\"RGB\")\n",
    "        if self.transform_image:\n",
    "            image = transform(image)\n",
    "        caption = self.cap_data.iloc[idx][\"Title\"]\n",
    "        encoding = self.processor(images = image , text= caption, padding= \"max_length\", return_tensors= \"pt\")\n",
    "        encoding = {k:v.squeeze() for k,v in encoding.items()}\n",
    "        return encoding\n",
    "\n",
    "transform = transforms.Compose([\n",
    "\ttransforms.Resize((224, 224)),\n",
    "    transforms.ToTensor(),\n",
    "])\n",
    "\n",
    "\"\"\"\n",
    "transform = transforms.Compose([\n",
    "\ttransforms.Resize((224, 224)),\n",
    "\ttransforms.ToTensor(),\n",
    "\ttransforms.Normalize(mean=[0.485, 0.456, 0.406],\n",
    "\t\t\t\t\t\t std=[0.229, 0.224, 0.225])\n",
    "])\n",
    "\"\"\"\n"
   ]
  },
  {
   "cell_type": "code",
   "execution_count": 3,
   "metadata": {},
   "outputs": [
    {
     "name": "stdout",
     "output_type": "stream",
     "text": [
      "trainable params: 5,455,872 || all params: 252,869,948 || trainable%: 2.1576\n"
     ]
    }
   ],
   "source": [
    "# Configuración del modelo BLIP\n",
    "model_id = \"model_resources\"\n",
    "device = \"cuda\" if torch.cuda.is_available() else \"cpu\"\n",
    "\n",
    "model = AutoModelForVision2Seq.from_pretrained(model_id)\n",
    "model.to(device)\n",
    "\n",
    "processor = AutoProcessor.from_pretrained(model_id)\n",
    "\n",
    "# Configuración PEFT\n",
    "config = LoraConfig(\n",
    "    r=16,\n",
    "    lora_alpha=32,\n",
    "    lora_dropout=0.05,\n",
    "    bias=\"none\",\n",
    "    target_modules=[\n",
    "        \"self.query\",\n",
    "        \"self.key\",\n",
    "        \"self.value\",\n",
    "        \"output.dense\",\n",
    "        \"self_attn.qkv\",\n",
    "        \"self_attn.projection\",\n",
    "        \"mlp.fc1\",\n",
    "        \"mlp.fc2\",\n",
    "    ],\n",
    ")\n",
    "\n",
    "model = get_peft_model(model, config)\n",
    "model.print_trainable_parameters()\n"
   ]
  },
  {
   "cell_type": "code",
   "execution_count": 4,
   "metadata": {},
   "outputs": [
    {
     "name": "stderr",
     "output_type": "stream",
     "text": [
      "\u001b[34m\u001b[1mwandb\u001b[0m: Using wandb-core as the SDK backend.  Please refer to https://wandb.me/wandb-core for more information.\n",
      "\u001b[34m\u001b[1mwandb\u001b[0m: Currently logged in as: \u001b[33mluisdomene\u001b[0m (\u001b[33muab-ai\u001b[0m). Use \u001b[1m`wandb login --relogin`\u001b[0m to force relogin\n"
     ]
    },
    {
     "data": {
      "text/html": [
       "Tracking run with wandb version 0.19.0"
      ],
      "text/plain": [
       "<IPython.core.display.HTML object>"
      ]
     },
     "metadata": {},
     "output_type": "display_data"
    },
    {
     "data": {
      "text/html": [
       "Run data is saved locally in <code>/home/ldomene/CAP-GIA/blip/wandb/run-20241212_151716-f5yc0mnq</code>"
      ],
      "text/plain": [
       "<IPython.core.display.HTML object>"
      ]
     },
     "metadata": {},
     "output_type": "display_data"
    },
    {
     "data": {
      "text/html": [
       "Syncing run <strong><a href='https://wandb.ai/uab-ai/blip-finetuning/runs/f5yc0mnq' target=\"_blank\">exalted-snowflake-9</a></strong> to <a href='https://wandb.ai/uab-ai/blip-finetuning' target=\"_blank\">Weights & Biases</a> (<a href='https://wandb.me/developer-guide' target=\"_blank\">docs</a>)<br/>"
      ],
      "text/plain": [
       "<IPython.core.display.HTML object>"
      ]
     },
     "metadata": {},
     "output_type": "display_data"
    },
    {
     "data": {
      "text/html": [
       " View project at <a href='https://wandb.ai/uab-ai/blip-finetuning' target=\"_blank\">https://wandb.ai/uab-ai/blip-finetuning</a>"
      ],
      "text/plain": [
       "<IPython.core.display.HTML object>"
      ]
     },
     "metadata": {},
     "output_type": "display_data"
    },
    {
     "data": {
      "text/html": [
       " View run at <a href='https://wandb.ai/uab-ai/blip-finetuning/runs/f5yc0mnq' target=\"_blank\">https://wandb.ai/uab-ai/blip-finetuning/runs/f5yc0mnq</a>"
      ],
      "text/plain": [
       "<IPython.core.display.HTML object>"
      ]
     },
     "metadata": {},
     "output_type": "display_data"
    },
    {
     "name": "stderr",
     "output_type": "stream",
     "text": [
      "[nltk_data] Downloading package wordnet to /home/ldomene/nltk_data...\n",
      "[nltk_data]   Package wordnet is already up-to-date!\n",
      "[nltk_data] Downloading package punkt_tab to\n",
      "[nltk_data]     /home/ldomene/nltk_data...\n",
      "[nltk_data]   Package punkt_tab is already up-to-date!\n",
      "[nltk_data] Downloading package omw-1.4 to /home/ldomene/nltk_data...\n",
      "[nltk_data]   Package omw-1.4 is already up-to-date!\n"
     ]
    }
   ],
   "source": [
    "# Inicialización del dataset\n",
    "data_path = \"/home/ldomene/caption_data/receipes\"\n",
    "train_dataset = ReceipesDataset(data_path=data_path, transform_image=False, split=\"train\")\n",
    "val_dataset = ReceipesDataset(data_path=data_path, transform_image=False, split=\"val\")\n",
    "\n",
    "\"\"\"\n",
    "# Collate Function para BLIP\n",
    "def collator(batch):\n",
    "    images, captions = zip(*batch)\n",
    "    image_inputs = processor(images=list(images), return_tensors=\"pt\", padding=True)\n",
    "    text_inputs = processor.tokenizer(\n",
    "        list(captions), padding=True, return_tensors=\"pt\"\n",
    "    )\n",
    "    return {\n",
    "        \"pixel_values\": image_inputs[\"pixel_values\"].to(device),\n",
    "        \"input_ids\": text_inputs[\"input_ids\"].to(device),\n",
    "        \"attention_mask\": text_inputs[\"attention_mask\"].to(device),\n",
    "    }\n",
    "\"\"\"\n",
    "\n",
    "\n",
    "# DataLoader\n",
    "train_dataloader = DataLoader(\n",
    "    train_dataset, shuffle=True, batch_size=4\n",
    ")\n",
    "val_dataloader = DataLoader(\n",
    "    val_dataset, shuffle=False, batch_size=4\n",
    ")\n",
    "\n",
    "# Optimización\n",
    "optimizer = optim.AdamW(model.parameters(), lr=1e-4, weight_decay=1e-4)\n",
    "\n",
    "# Inicialización de WandB\n",
    "wandb.init(\n",
    "    project=\"blip-finetuning\",\n",
    "    config={\n",
    "        \"epochs\": 10,\n",
    "        \"batch_size\": 4,\n",
    "        \"learning_rate\": 1e-4,\n",
    "    },\n",
    ")\n",
    "\n",
    "# Métricas\n",
    "bleu = evaluate.load(\"bleu\")\n",
    "meteor = evaluate.load(\"meteor\")\n",
    "rouge = evaluate.load(\"rouge\")"
   ]
  },
  {
   "cell_type": "code",
   "execution_count": 5,
   "metadata": {},
   "outputs": [
    {
     "name": "stdout",
     "output_type": "stream",
     "text": [
      "Epoch 1\n",
      "<class 'torch.Tensor'>\n",
      "torch.Size([4, 512])\n",
      "<class 'torch.Tensor'>\n",
      "torch.Size([4, 512])\n",
      "<class 'torch.Tensor'>\n",
      "torch.Size([4, 512])\n",
      "<class 'torch.Tensor'>\n",
      "torch.Size([4, 512])\n",
      "<class 'torch.Tensor'>\n",
      "torch.Size([4, 512])\n",
      "<class 'torch.Tensor'>\n",
      "torch.Size([4, 512])\n",
      "<class 'torch.Tensor'>\n",
      "torch.Size([4, 512])\n"
     ]
    },
    {
     "ename": "KeyboardInterrupt",
     "evalue": "",
     "output_type": "error",
     "traceback": [
      "\u001b[0;31m---------------------------------------------------------------------------\u001b[0m",
      "\u001b[0;31mKeyboardInterrupt\u001b[0m                         Traceback (most recent call last)",
      "Cell \u001b[0;32mIn[5], line 23\u001b[0m\n\u001b[1;32m     15\u001b[0m outputs \u001b[38;5;241m=\u001b[39m model(\n\u001b[1;32m     16\u001b[0m     input_ids\u001b[38;5;241m=\u001b[39minput_ids,\n\u001b[1;32m     17\u001b[0m     pixel_values\u001b[38;5;241m=\u001b[39mpixel_values,\n\u001b[1;32m     18\u001b[0m     labels\u001b[38;5;241m=\u001b[39minput_ids,\n\u001b[1;32m     19\u001b[0m     attention_mask\u001b[38;5;241m=\u001b[39mattention_mask,\n\u001b[1;32m     20\u001b[0m )\n\u001b[1;32m     22\u001b[0m loss \u001b[38;5;241m=\u001b[39m outputs\u001b[38;5;241m.\u001b[39mloss\n\u001b[0;32m---> 23\u001b[0m total_loss \u001b[38;5;241m+\u001b[39m\u001b[38;5;241m=\u001b[39m \u001b[43mloss\u001b[49m\u001b[38;5;241;43m.\u001b[39;49m\u001b[43mitem\u001b[49m\u001b[43m(\u001b[49m\u001b[43m)\u001b[49m\n\u001b[1;32m     25\u001b[0m loss\u001b[38;5;241m.\u001b[39mbackward()\n\u001b[1;32m     26\u001b[0m optimizer\u001b[38;5;241m.\u001b[39mstep()\n",
      "\u001b[0;31mKeyboardInterrupt\u001b[0m: "
     ]
    }
   ],
   "source": [
    "# Entrenamiento\n",
    "config = wandb.config\n",
    "model.train()\n",
    "for epoch in range(config.epochs):\n",
    "    print(f\"Epoch {epoch + 1}\")\n",
    "    total_loss = 0\n",
    "\n",
    "    for idx, batch in enumerate(train_dataloader):\n",
    "        input_ids = batch[\"input_ids\"].to(device)\n",
    "        pixel_values = batch[\"pixel_values\"].to(device)\n",
    "        attention_mask = batch[\"attention_mask\"].to(device)\n",
    "        print(type(input_ids))\n",
    "        print(input_ids.shape)\n",
    "        \n",
    "        outputs = model(\n",
    "            input_ids=input_ids,\n",
    "            pixel_values=pixel_values,\n",
    "            labels=input_ids,\n",
    "            attention_mask=attention_mask,\n",
    "        )\n",
    "        \n",
    "        loss = outputs.loss\n",
    "        total_loss += loss.item()\n",
    "\n",
    "        loss.backward()\n",
    "        optimizer.step()\n",
    "        optimizer.zero_grad()\n",
    "\n",
    "        wandb.log({\"batch_loss\": loss.item(), \"epoch\": epoch + 1})\n",
    "\n",
    "    # Evaluación\n",
    "    model.eval()\n",
    "    predictions = []\n",
    "    references = []\n",
    "\n",
    "    with torch.no_grad():\n",
    "        for val_batch in val_dataloader:\n",
    "            val_pixel_values = val_batch[\"pixel_values\"]\n",
    "            val_input_ids = val_batch[\"input_ids\"]\n",
    "\n",
    "            generated_output = model.generate(\n",
    "                pixel_values=val_pixel_values, max_new_tokens=64\n",
    "            )\n",
    "            predictions.extend(\n",
    "                processor.batch_decode(generated_output, skip_special_tokens=True)\n",
    "            )\n",
    "            references.extend(\n",
    "                processor.batch_decode(val_input_ids, skip_special_tokens=True)\n",
    "            )\n",
    "\n",
    "    res_bleu_1 = bleu.compute(\n",
    "        predictions=predictions, references=[[ref] for ref in references], max_order=1\n",
    "    )\n",
    "    res_bleu_2 = bleu.compute(\n",
    "        predictions=predictions, references=[[ref] for ref in references], max_order=2\n",
    "    )\n",
    "    res_meteor = meteor.compute(\n",
    "        predictions=predictions, references=[[ref] for ref in references]\n",
    "    )\n",
    "    res_rouge = rouge.compute(\n",
    "        predictions=predictions, references=[[ref] for ref in references]\n",
    "    )\n",
    "\n",
    "    avg_train_loss = total_loss / len(train_dataloader)\n",
    "    print(\n",
    "        f\"Epoch {epoch + 1}: Train Loss = {avg_train_loss:.4f}, BLEU-1 = {res_bleu_1['bleu']:.4f}, BLEU-2 = {res_bleu_2['bleu']:.4f}, METEOR = {res_meteor['meteor']:.4f}, ROUGE-L = {res_rouge['rougeL']:.4f}\"\n",
    "    )\n",
    "\n",
    "    wandb.log(\n",
    "        {\n",
    "            \"epoch_train_loss\": avg_train_loss,\n",
    "            \"BLEU-1\": res_bleu_1[\"bleu\"],\n",
    "            \"BLEU-2\": res_bleu_2[\"bleu\"],\n",
    "            \"ROUGE-L\": res_rouge[\"rougeL\"],\n",
    "            \"METEOR\": res_meteor[\"meteor\"],\n",
    "        }\n",
    "    )\n",
    "\n",
    "    model.train()"
   ]
  },
  {
   "cell_type": "code",
   "execution_count": null,
   "metadata": {},
   "outputs": [],
   "source": [
    "# Guardar modelo\n",
    "os.makedirs(\"/home/ldomene/CAP-GIA/blip\", exist_ok=True)\n",
    "model.save_pretrained(\"/home/ldomene/CAP-GIA/blip/model\")\n",
    "artifact = wandb.Artifact(\"blip-finetuned-model\", type=\"model\")\n",
    "artifact.add_dir(\"/home/ldomene/CAP-GIA/blip/model\")\n",
    "wandb.log_artifact(artifact)\n",
    "\n",
    "wandb.finish()\n"
   ]
  },
  {
   "cell_type": "code",
   "execution_count": null,
   "metadata": {},
   "outputs": [],
   "source": [
    "wandb.finish()\n"
   ]
  },
  {
   "cell_type": "code",
   "execution_count": null,
   "metadata": {},
   "outputs": [],
   "source": []
  }
 ],
 "metadata": {
  "kernelspec": {
   "display_name": "Python 3 (ipykernel)",
   "language": "python",
   "name": "python3"
  },
  "language_info": {
   "codemirror_mode": {
    "name": "ipython",
    "version": 3
   },
   "file_extension": ".py",
   "mimetype": "text/x-python",
   "name": "python",
   "nbconvert_exporter": "python",
   "pygments_lexer": "ipython3",
   "version": "3.9.18"
  }
 },
 "nbformat": 4,
 "nbformat_minor": 4
}
