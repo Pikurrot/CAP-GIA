{
 "cells": [
  {
   "cell_type": "markdown",
   "metadata": {},
   "source": [
    "## Statistical Analysis of the 'Food Ingredients and Recipes Dataset with Images'\n",
    "\n",
    "- Obtained from: https://www.kaggle.com/datasets/pes12017000148/food-ingredients-and-recipe-dataset-with-images"
   ]
  },
  {
   "cell_type": "code",
   "execution_count": null,
   "metadata": {},
   "outputs": [],
   "source": [
    "# Libraries\n",
    "import os\n",
    "from PIL import Image\n",
    "import numpy as np\n",
    "import pandas as pd\n",
    "import matplotlib.pyplot as plt"
   ]
  },
  {
   "cell_type": "code",
   "execution_count": null,
   "metadata": {},
   "outputs": [],
   "source": [
    "# Dataset loading\n",
    "csv_path = \"food-ingredients-and-recipe-dataset-with-images/Food Ingredients and Recipe Dataset with Image Name Mapping.csv\" \n",
    "data = pd.read_csv(csv_path)\n",
    "\n",
    "image_folder_path = \"food-ingredients-and-recipe-dataset-with-images/Food Images/Food Images\""
   ]
  },
  {
   "cell_type": "code",
   "execution_count": null,
   "metadata": {},
   "outputs": [],
   "source": [
    "# Function to analyze image dimensions\n",
    "def analyze_image_dimensions(image_folder, image_names):\n",
    "    widths, heights = [], []\n",
    "    missing_images = []\n",
    "\n",
    "    for image_name in image_names:\n",
    "        image_path = os.path.join(image_folder, f\"{image_name}.jpg\")  \n",
    "        if os.path.exists(image_path):\n",
    "            with Image.open(image_path) as img:\n",
    "                widths.append(img.width)\n",
    "                heights.append(img.height)\n",
    "        else:\n",
    "            missing_images.append(image_name)\n",
    "\n",
    "    return {\n",
    "        \"widths\": widths,\n",
    "        \"heights\": heights,\n",
    "        \"missing_images\": missing_images\n",
    "    }\n",
    "\n",
    "# Analyze image dimensions\n",
    "image_stats = analyze_image_dimensions(image_folder_path, data[\"Image_Name\"])\n",
    "\n",
    "# Compute statistics for widths and heights\n",
    "if image_stats[\"widths\"]:\n",
    "    image_widths = np.array(image_stats[\"widths\"])\n",
    "    image_heights = np.array(image_stats[\"heights\"])\n",
    "\n",
    "    width_stats = {\"Min\": image_widths.min(), \"Mean\": image_widths.mean(), \"Max\": image_widths.max()}\n",
    "    height_stats = {\"Min\": image_heights.min(), \"Mean\": image_heights.mean(), \"Max\": image_heights.max()}\n",
    "else:\n",
    "    width_stats = height_stats = \"No images found!\"\n",
    "\n",
    "\n",
    "# Function to analyze text statistics in titles and ingredients\n",
    "def analyze_text_statistics(titles, ingredients):\n",
    "    # Title length statistics\n",
    "    title_lengths = titles.str.len()\n",
    "    title_length_stats = {\n",
    "        \"Min\": title_lengths.min(),\n",
    "        \"Mean\": title_lengths.mean(),\n",
    "        \"Max\": title_lengths.max()\n",
    "    }\n",
    "    \n",
    "    # Vocabulary statistics\n",
    "    words_in_titles = titles.str.split().explode()\n",
    "    words_in_ingredients = ingredients.str.split().explode()\n",
    "    common_words_titles = words_in_titles.value_counts().head(10).to_dict()\n",
    "    common_words_ingredients = words_in_ingredients.value_counts().head(10).to_dict()\n",
    "    rare_words_titles = words_in_titles.value_counts().tail(10).to_dict()\n",
    "    rare_words_ingredients = words_in_ingredients.value_counts().tail(10).to_dict()\n",
    "\n",
    "    return {\n",
    "        \"title_length_stats\": title_length_stats,\n",
    "        \"common_words_titles\": common_words_titles,\n",
    "        \"common_words_ingredients\": common_words_ingredients,\n",
    "        \"rare_words_titles\": rare_words_titles,\n",
    "        \"rare_words_ingredients\": rare_words_ingredients}\n",
    "\n",
    "# Analyze text statistics\n",
    "text_stats = analyze_text_statistics(data[\"Title\"], data[\"Ingredients\"])\n",
    "\n",
    "# Combine results\n",
    "results = {\n",
    "    \"Image Width Stats\": width_stats,\n",
    "    \"Image Height Stats\": height_stats,\n",
    "    \"Title Length Stats\": text_stats[\"title_length_stats\"],\n",
    "    \"Common Words in Titles\": text_stats[\"common_words_titles\"],\n",
    "    \"Common Words in Ingredients\": text_stats[\"common_words_ingredients\"],\n",
    "    \"Rare Words in Titles\": text_stats[\"rare_words_titles\"],\n",
    "    \"Rare Words in Ingredients\": text_stats[\"rare_words_ingredients\"],\n",
    "    \"Missing Images Count\": len(image_stats[\"missing_images\"])}"
   ]
  },
  {
   "cell_type": "code",
   "execution_count": 9,
   "metadata": {},
   "outputs": [
    {
     "name": "stdout",
     "output_type": "stream",
     "text": [
      "Image Width Stats:\n",
      "{'Min': 274, 'Mean': 274.0317719545691, 'Max': 702}\n",
      "\n",
      "Image Height Stats:\n",
      "{'Min': 169, 'Mean': 169.04105114690816, 'Max': 722}\n",
      "\n",
      "Title Length Stats:\n",
      "{'Min': 3.0, 'Mean': 32.7616330764671, 'Max': 112.0}\n",
      "\n",
      "Common Words in Titles:\n",
      "{'with': 4747, 'and': 4281, 'Salad': 953, 'Chicken': 821, 'Sauce': 666, 'Grilled': 570, 'With': 524, 'Cake': 442, 'Roasted': 441, 'Chocolate': 410}\n",
      "\n",
      "Common Words in Ingredients:\n",
      "{\"'1\": 38077, 'cup': 28116, \"'2\": 21758, 'teaspoon': 15987, 'tablespoons': 15543, \"'1/2\": 13476, 'or': 11490, 'fresh': 10104, 'cups': 10075, \"'1/4\": 9686}\n",
      "\n",
      "Rare Words in Titles:\n",
      "{'Board': 1, 'Thread': 1, 'Sinigang': 1, 'Bihon': 1, 'Eureka': 1, 'Infinite': 1, 'Burns': 1, 'Bobby': 1, 'Guisado)': 1, 'Hazelnut-Butter': 1}\n",
      "\n",
      "Rare Words in Ingredients:\n",
      "{\"Nougat',\": 1, 'cup/95': 1, \"Chocolate']\": 1, 'Gluten-free': 1, 'sunflower)': 1, \"shoots']\": 1, 'halved,layers': 1, \"oolong',\": 1, '(3-4': 1, 'epazote*': 1}\n",
      "\n",
      "Missing Images Count:\n",
      "30\n",
      "\n"
     ]
    }
   ],
   "source": [
    "# Display results\n",
    "for key, value in results.items():\n",
    "    print(f\"{key}:\\n{value}\\n\")"
   ]
  }
 ],
 "metadata": {
  "kernelspec": {
   "display_name": "collegeEnv",
   "language": "python",
   "name": "python3"
  },
  "language_info": {
   "codemirror_mode": {
    "name": "ipython",
    "version": 3
   },
   "file_extension": ".py",
   "mimetype": "text/x-python",
   "name": "python",
   "nbconvert_exporter": "python",
   "pygments_lexer": "ipython3",
   "version": "3.10.13"
  }
 },
 "nbformat": 4,
 "nbformat_minor": 2
}
