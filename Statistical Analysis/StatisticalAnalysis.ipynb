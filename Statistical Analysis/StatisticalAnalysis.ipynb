{
 "cells": [
  {
   "cell_type": "markdown",
   "metadata": {},
   "source": [
    "## Statistical Analysis of the 'Food Ingredients and Recipes Dataset with Images'\n",
    "\n",
    "- Obtained from: https://www.kaggle.com/datasets/pes12017000148/food-ingredients-and-recipe-dataset-with-images"
   ]
  },
  {
   "cell_type": "code",
   "execution_count": 10,
   "metadata": {},
   "outputs": [],
   "source": [
    "# Libraries\n",
    "import os\n",
    "from PIL import Image\n",
    "import numpy as np\n",
    "import pandas as pd\n",
    "import matplotlib.pyplot as plt"
   ]
  },
  {
   "cell_type": "code",
   "execution_count": 11,
   "metadata": {},
   "outputs": [],
   "source": [
    "# Dataset loading\n",
    "csv_path = \"food-ingredients-and-recipe-dataset-with-images/Food Ingredients and Recipe Dataset with Image Name Mapping.csv\" \n",
    "data = pd.read_csv(csv_path)\n",
    "\n",
    "image_folder_path = \"food-ingredients-and-recipe-dataset-with-images/Food Images/Food Images\""
   ]
  },
  {
   "cell_type": "code",
   "execution_count": 14,
   "metadata": {},
   "outputs": [],
   "source": [
    "# Function to analyze image dimensions\n",
    "def analyze_image_dimensions(image_folder, image_names):\n",
    "    widths, heights = [], []\n",
    "    missing_images = []\n",
    "\n",
    "    for image_name in image_names:\n",
    "        image_path = os.path.join(image_folder, f\"{image_name}.jpg\")  # Assuming .jpg extension\n",
    "        if os.path.exists(image_path):\n",
    "            with Image.open(image_path) as img:\n",
    "                widths.append(img.width)\n",
    "                heights.append(img.height)\n",
    "        else:\n",
    "            missing_images.append(image_name)\n",
    "\n",
    "    return {\n",
    "        \"widths\": widths,\n",
    "        \"heights\": heights,\n",
    "        \"missing_images\": missing_images\n",
    "    }\n",
    "\n",
    "# Analyze image dimensions\n",
    "image_stats = analyze_image_dimensions(image_folder_path, data[\"Image_Name\"])\n",
    "\n",
    "# Compute statistics for widths and heights\n",
    "if image_stats[\"widths\"]:\n",
    "    image_widths = np.array(image_stats[\"widths\"])\n",
    "    image_heights = np.array(image_stats[\"heights\"])\n",
    "\n",
    "    width_stats = {\"Min\": image_widths.min(), \"Mean\": image_widths.mean(), \"Max\": image_widths.max()}\n",
    "    height_stats = {\"Min\": image_heights.min(), \"Mean\": image_heights.mean(), \"Max\": image_heights.max()}\n",
    "else:\n",
    "    width_stats = height_stats = \"No images found!\"\n",
    "\n",
    "# Function to analyze text statistics (e.g., title length, vocabulary)\n",
    "def analyze_text_statistics(titles, ingredients):\n",
    "    # Title length statistics\n",
    "    title_lengths = titles.str.len()\n",
    "    title_length_stats = {\n",
    "        \"Min\": title_lengths.min(),\n",
    "        \"Mean\": title_lengths.mean(),\n",
    "        \"Max\": title_lengths.max()\n",
    "    }\n",
    "    \n",
    "    # Vocabulary statistics\n",
    "    words_in_titles = titles.str.split().explode()\n",
    "    words_in_ingredients = ingredients.str.split().explode()\n",
    "    common_words_titles = words_in_titles.value_counts().head(10).to_dict()\n",
    "    common_words_ingredients = words_in_ingredients.value_counts().head(10).to_dict()\n",
    "    rare_words_titles = words_in_titles.value_counts().tail(10).to_dict()\n",
    "    rare_words_ingredients = words_in_ingredients.value_counts().tail(10).to_dict()\n",
    "\n",
    "    return {\n",
    "        \"title_length_stats\": title_length_stats,\n",
    "        \"common_words_titles\": common_words_titles,\n",
    "        \"common_words_ingredients\": common_words_ingredients,\n",
    "        \"rare_words_titles\": rare_words_titles,\n",
    "        \"rare_words_ingredients\": rare_words_ingredients\n",
    "    }\n",
    "\n",
    "# Analyze text statistics\n",
    "text_stats = analyze_text_statistics(data[\"Title\"], data[\"Ingredients\"])\n",
    "\n",
    "# Count total images and captions\n",
    "total_images = len(data[\"Image_Name\"].unique())\n",
    "total_captions = len(data[\"Title\"].unique())\n",
    "\n",
    "# Combine results\n",
    "results = {\n",
    "    \"Total Images\": total_images,\n",
    "    \"Total Captions\": total_captions,\n",
    "    \"Image Width Stats\": width_stats,\n",
    "    \"Image Height Stats\": height_stats,\n",
    "    \"Title Length Stats\": text_stats[\"title_length_stats\"],\n",
    "    \"Common Words in Titles\": text_stats[\"common_words_titles\"],\n",
    "    \"Common Words in Ingredients\": text_stats[\"common_words_ingredients\"],\n",
    "    \"Rare Words in Titles\": text_stats[\"rare_words_titles\"],\n",
    "    \"Rare Words in Ingredients\": text_stats[\"rare_words_ingredients\"],\n",
    "    \"Missing Images Count\": len(image_stats[\"missing_images\"])\n",
    "}"
   ]
  },
  {
   "cell_type": "code",
   "execution_count": 15,
   "metadata": {},
   "outputs": [
    {
     "name": "stdout",
     "output_type": "stream",
     "text": [
      "Total Images:\n",
      "13472\n",
      "\n",
      "Total Captions:\n",
      "13306\n",
      "\n",
      "Image Width Stats:\n",
      "{'Min': 274, 'Mean': 274.0317719545691, 'Max': 702}\n",
      "\n",
      "Image Height Stats:\n",
      "{'Min': 169, 'Mean': 169.04105114690816, 'Max': 722}\n",
      "\n",
      "Title Length Stats:\n",
      "{'Min': 3.0, 'Mean': 32.7616330764671, 'Max': 112.0}\n",
      "\n",
      "Common Words in Titles:\n",
      "{'with': 4747, 'and': 4281, 'Salad': 953, 'Chicken': 821, 'Sauce': 666, 'Grilled': 570, 'With': 524, 'Cake': 442, 'Roasted': 441, 'Chocolate': 410}\n",
      "\n",
      "Common Words in Ingredients:\n",
      "{\"'1\": 38077, 'cup': 28116, \"'2\": 21758, 'teaspoon': 15987, 'tablespoons': 15543, \"'1/2\": 13476, 'or': 11490, 'fresh': 10104, 'cups': 10075, \"'1/4\": 9686}\n",
      "\n",
      "Rare Words in Titles:\n",
      "{'Board': 1, 'Thread': 1, 'Sinigang': 1, 'Bihon': 1, 'Eureka': 1, 'Infinite': 1, 'Burns': 1, 'Bobby': 1, 'Guisado)': 1, 'Hazelnut-Butter': 1}\n",
      "\n",
      "Rare Words in Ingredients:\n",
      "{\"Nougat',\": 1, 'cup/95': 1, \"Chocolate']\": 1, 'Gluten-free': 1, 'sunflower)': 1, \"shoots']\": 1, 'halved,layers': 1, \"oolong',\": 1, '(3-4': 1, 'epazote*': 1}\n",
      "\n",
      "Missing Images Count:\n",
      "30\n",
      "\n"
     ]
    }
   ],
   "source": [
    "# Display results\n",
    "for key, value in results.items():\n",
    "    print(f\"{key}:\\n{value}\\n\")"
   ]
  },
  {
   "cell_type": "markdown",
   "metadata": {},
   "source": [
    "### **Investigation on more images than captions**\n",
    "- 13,472 images vs 13,306 captions"
   ]
  },
  {
   "cell_type": "markdown",
   "metadata": {},
   "source": [
    "Unmmatched images"
   ]
  },
  {
   "cell_type": "code",
   "execution_count": null,
   "metadata": {},
   "outputs": [
    {
     "name": "stdout",
     "output_type": "stream",
     "text": [
      "Unmatched Images: 111\n",
      "{'-candy-corn-frozen-citrus-cream-pops-368770', 'caramelized-onion-and-portobello-mushroom-soup-with-goat-cheese-croutons-106175', 'roasted-sweet-potatoes-with-honey-glaze-104728', 'herbed-summer-succotash-102026', '-halibut-confit-with-leeks-coriander-and-lemon-51252690', 'vietnamese-style-beef-noodle-soup-108724', '-pumpkin-gruyere-gratin-with-thyme-51252910', '-hazelnut-butter-and-coffee-meringues-51260360', 'chicken-with-tarragon-caper-sauce-with-mixed-greens-108454', 'pepper-crusted-steaks-with-worcestershire-glazed-portobellos-109702', 'panna-cotta-with-strawberry-vin-santo-sauce-103466', 'arugula-and-pear-salad-with-mascarpone-and-toasted-walnuts-107798', '-lentils-with-cucumbers-chard-and-poached-egg-51260640', 'sauteed-chicken-with-tomatoes-olives-and-feta-108456', 'soft-shelled-crabs-meuniere-104885', 'chilled-corn-soup-with-crab-and-chile-oil-105206', '-like-a-caesar-235836', 'baked-shrimp-toasts-108879', 'maine-lobster-with-wild-mushrooms-and-rosemary-vapor-108559', 'fresh-country-pork-sausage-with-pepper-and-sage-108286', 'spice-rubbed-quail-107015', 'mexican-wedding-cakes-108073', '-carbonnade-a-la-flamande-short-ribs-358557', 'linguine-with-red-peppers-green-onions-and-pine-nuts-102653', '-smoked-salmon-breakfast-salad-with-crispbread-51260620', 'bread-dressing-with-dried-apricots-pistachios-and-mint-108824', 'crab-and-roasted-red-pepper-strata-105672', '-rhubarb-spritzer-51241010', 'cider-basted-turkey-with-roasted-apple-gravy-104498', 'tarragon-lobster-salad-105219', 'potato-and-blue-cheese-salad-103688', 'chocolate-earl-grey-truffles-107440', 'blood-orange-jelly-with-brandied-whipped-cream-104432', 'spanish-style-oxtails-braised-with-chorizo-107590', 'stuffed-red-bell-peppers-106226', 'bread-pudding-with-warm-bourbon-sauce-102163', 'mustard-chicken-1862', 'summer-vegetable-frittata-109668', '-chickpea-pancakes-with-leeks-squash-and-yogurt-51260630', 'pan-seared-filet-mignon-with-cabernet-sauce-105682', 'poached-eggs-with-roasted-tomatoes-mushrooms-and-ham-107976', 'mesclun-salad-with-goat-cheese-stuffed-figs-wrapped-in-bacon-105402', '-radicchio-and-apple-salad-with-parmesan-crisps-51252810', 'ranchero-sauce-2671', '-pizza-sandwiches-354873', 'indian-spiced-fish-with-cucumber-relish-109689', 'strawberry-cheesecake-with-gingersnap-crust-101704', '-fritto-misto-51252640', 'pasta-e-fagioli-10698', 'no-bake-blueberry-cheesecake-with-graham-cracker-crust-108320', '-em-polow-em-persian-rice-with-pistachios-and-dill-352469', 'juanas-chicken-stuffed-poblanos-103825', 'buche-de-noel-with-marzipan-mushrooms-104507', '-em-ba-em-s-ultimate-lobster-rolls-51169080', 'glazed-turnips-104647', 'roasted-orange-cakes-103737', 'angled-loofah-bread-and-butter-pickles-107780', 'sage-stuffing-107372', 'cucumber-soup-with-wasabi-avocado-cream-105207', '-em-stracciatella-tortoni-em-cake-with-espresso-fudge-sauce-242605', 'spiced-lamb-chops-with-mint-mango-sauce-109587', '-rhubarb-shortcakes-51155450', '-pork-chops-with-carrots-and-toasted-buckwheat-51260680', 'chicken-tikka-109308', 'basic-method-for-cooking-corn-on-the-cob-40047', '-chickpea-barley-and-feta-salad-51239040', 'marshmallow-black-bottom-pie-104585', '-bloody-mary-tomato-toast-with-celery-and-horseradish-56389813', 'puerto-nuevo-style-lobster-tacos-107852', 'ricotta-and-candied-fruit-puddings-105929', 'old-fashioned-chicken-and-corn-stew-108728', '-pistachio-crusted-chicken-with-carrot-raita-51236030', '-em-gourmet-live-em-s-first-birthday-cake-367789', 'roasted-peppers-stuffed-with-cherry-tomatoes-onion-and-basil-101886', 'kumquat-and-cranberry-compote-107376', 'foie-gras-and-cream-eggs-109243', 'stuffed-peppers-101633', 'shrimp-skewers-with-charred-tomato-vinaigrette-109691', 'blackened-steak-salad-103873', 'chocolate-whiskey-souffle-tarts-100972', '-soda-jerk-beans-235357', 'grilled-balsamic-marinated-london-broil-with-red-onions-108387', '-cod-with-mussels-chorizo-fried-croutons-and-saffron-mayonnaise-355204', 'broccoli-with-sesame-seeds-and-dried-red-pepper-106326', 'rhubarb-sabayon-with-strawberries-108006', 'lime-cilantro-sweet-potatoes-109459', '-candy-corn-pumpkin-blondies-51254510', 'hot-and-smoky-baked-beans-101852', '-fried-chicken-51238060', 'swiss-chard-and-herb-tart-103433', 'plum-pine-nut-tart-101888', 'baked-pears-with-sauternes-custard-sauce-105517', 'walnut-and-pancetta-pansoti-with-asparagus-in-parmesan-broth-106254', 'black-bottom-chocolate-pie-102366', 'basic-muffins-40037', '-top-tier-devils-food-cake-with-sour-cream-fudge-frosting-357276', 'tomato-and-celery-infused-beef-consomme-with-tiny-choux-puffs-105485', 'lemon-creme-brulee-tart-109359', 'star-anise-and-coriander-spice-cake-101767', '-prosciutto-watercress-and-fontina-toasties-51252480', 'maple-pumpkin-pots-de-creme-107388', 'grilled-calamari-with-arugula-107006', '-burnt-carrots-and-parsnips-56390131', 'chocolate-caramel-frozen-parfaits-109138', 'leek-and-potato-soup-1922', '-radicchio-shaved-fennel-and-pomegranate-salad-51254420', 'winter-crudites-with-walnut-garlic-dip-102635', 'coffee-baked-alaska-with-mocha-sauce-102139', 'broiled-apples-with-maple-calvados-sauce-102588', 'molasses-baked-onions-109226', 'the-only-marinade-youll-ever-need-103749'}\n"
     ]
    }
   ],
   "source": [
    "# Get image files from the folder\n",
    "image_files = set(os.listdir(image_folder_path))  \n",
    "image_files = {os.path.splitext(img)[0] for img in image_files}  # Remove extensions\n",
    "\n",
    "# Get image names from the CSV\n",
    "csv_images = set(data[\"Image_Name\"].unique())\n",
    "\n",
    "# Find unmatched images\n",
    "unmatched_images = image_files - csv_images\n",
    "print(f\"Unmatched Images: {len(unmatched_images)}\")\n",
    "print(unmatched_images)"
   ]
  },
  {
   "cell_type": "markdown",
   "metadata": {},
   "source": [
    "Identification of Duplicate Captions"
   ]
  },
  {
   "cell_type": "code",
   "execution_count": null,
   "metadata": {},
   "outputs": [
    {
     "name": "stdout",
     "output_type": "stream",
     "text": [
      "Number of Captions Associated with Multiple Images: 162\n",
      "Captions with Multiple Associated Images:\n",
      "Title\n",
      "Potato Latkes                5\n",
      "French 75                    5\n",
      "Chopped Salad                4\n",
      "Pickled Red Onions           4\n",
      "Sazerac                      4\n",
      "                            ..\n",
      "Pear and Almond Tart         2\n",
      "Pizza Margherita             2\n",
      "Salted Chocolate Caramels    2\n",
      "White Chicken Chili          2\n",
      "Swedish Meatballs            2\n",
      "Name: count, Length: 162, dtype: int64\n"
     ]
    }
   ],
   "source": [
    "duplicates = data[\"Title\"].value_counts()[data[\"Title\"].value_counts() > 1]\n",
    "print(f\"Number of Captions Associated with Multiple Images: {len(duplicates)}\")\n",
    "print(f\"Captions with Multiple Associated Images:\\n{duplicates}\")"
   ]
  },
  {
   "cell_type": "markdown",
   "metadata": {},
   "source": [
    "Checking for missing captions"
   ]
  },
  {
   "cell_type": "code",
   "execution_count": null,
   "metadata": {},
   "outputs": [
    {
     "name": "stdout",
     "output_type": "stream",
     "text": [
      "Number of Images Without Captions: 5\n",
      "Rows with Missing Captions:\n",
      "       Unnamed: 0 Title Ingredients Instructions  \\\n",
      "11221       11221   NaN          []          NaN   \n",
      "12373       12373   NaN          []          NaN   \n",
      "12378       12378   NaN          []          NaN   \n",
      "12818       12818   NaN          []          NaN   \n",
      "12829       12829   NaN          []          NaN   \n",
      "\n",
      "                                              Image_Name Cleaned_Ingredients  \n",
      "11221  roasted-game-hens-with-caramelized-root-vegeta...                ['']  \n",
      "12373                      chicken-soup-with-rice-232605                ['']  \n",
      "12378                           double-lemon-bars-232572                ['']  \n",
      "12818  pear-and-frangipane-crostata-with-raspberry-vi...                ['']  \n",
      "12829                  hazelnut-shortbread-sticks-231311                ['']  \n"
     ]
    }
   ],
   "source": [
    "missing_captions = data[data[\"Title\"].isna()]\n",
    "print(f\"Number of Images Without Captions: {len(missing_captions)}\")\n",
    "print(f\"Rows with Missing Captions:\\n{missing_captions}\")"
   ]
  }
 ],
 "metadata": {
  "kernelspec": {
   "display_name": "collegeEnv",
   "language": "python",
   "name": "python3"
  },
  "language_info": {
   "codemirror_mode": {
    "name": "ipython",
    "version": 3
   },
   "file_extension": ".py",
   "mimetype": "text/x-python",
   "name": "python",
   "nbconvert_exporter": "python",
   "pygments_lexer": "ipython3",
   "version": "3.10.13"
  }
 },
 "nbformat": 4,
 "nbformat_minor": 2
}
